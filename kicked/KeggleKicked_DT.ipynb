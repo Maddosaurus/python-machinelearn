{
 "cells": [
  {
   "cell_type": "markdown",
   "metadata": {},
   "source": [
    "# Decision Tree based on cleaned data"
   ]
  },
  {
   "cell_type": "markdown",
   "metadata": {},
   "source": [
    "As we cleaned our data in the other notebook, it is now time to train and use the prediction."
   ]
  },
  {
   "cell_type": "code",
   "execution_count": 15,
   "metadata": {
    "collapsed": false
   },
   "outputs": [
    {
     "data": {
      "text/plain": [
       "Index([u'Unnamed: 0', u'RefId', u'PurchDate', u'Auction', u'VehYear',\n",
       "       u'VehicleAge', u'Make', u'Model', u'Trim', u'SubModel', u'Color',\n",
       "       u'Transmission', u'WheelTypeID', u'WheelType', u'VehOdo',\n",
       "       u'Nationality', u'Size', u'TopThreeAmericanName',\n",
       "       u'MMRAcquisitionAuctionAveragePrice',\n",
       "       u'MMRAcquisitionAuctionCleanPrice', u'MMRAcquisitionRetailAveragePrice',\n",
       "       u'MMRAcquisitonRetailCleanPrice', u'MMRCurrentAuctionAveragePrice',\n",
       "       u'MMRCurrentAuctionCleanPrice', u'MMRCurrentRetailAveragePrice',\n",
       "       u'MMRCurrentRetailCleanPrice', u'PRIMEUNIT', u'AUCGUART', u'BYRNO',\n",
       "       u'VNZIP1', u'VNST', u'VehBCost', u'IsOnlineSale', u'WarrantyCost'],\n",
       "      dtype='object')"
      ]
     },
     "execution_count": 15,
     "metadata": {},
     "output_type": "execute_result"
    }
   ],
   "source": [
    "import pandas as pd\n",
    "\n",
    "#read in the cleaned training data!\n",
    "car_data_training = pd.read_csv('training_clean.csv')\n",
    "car_data_test = pd.read_csv('test_clean.csv')\n",
    "\n",
    "#car_data_training.columns\n",
    "car_data_test.columns"
   ]
  },
  {
   "cell_type": "markdown",
   "metadata": {},
   "source": [
    "Extract all input values"
   ]
  },
  {
   "cell_type": "code",
   "execution_count": 19,
   "metadata": {
    "collapsed": false
   },
   "outputs": [
    {
     "data": {
      "text/plain": [
       "array([['12/7/2009', 'ADESA', 2006L, 3L, 'MAZDA', 'MAZDA3', 'i',\n",
       "        '4D SEDAN I', 'RED', 'AUTO', 1.0, 'Alloy', 89046L, 'OTHER ASIAN',\n",
       "        'MEDIUM', 'OTHER', 8155.0, 9829.0, 11636.0, 13600.0, 7451.0,\n",
       "        8552.0, 11597.0, 12409.0, nan, nan, 21973L, 33619L, 'FL', 7100.0,\n",
       "        0L, 1113L],\n",
       "       ['12/7/2009', 'ADESA', 2004L, 5L, 'DODGE', '1500 RAM PICKUP 2WD',\n",
       "        'ST', 'QUAD CAB 4.7L SLT', 'WHITE', 'AUTO', 1.0, 'Alloy', 93593L,\n",
       "        'AMERICAN', 'LARGE TRUCK', 'CHRYSLER', 6854.0, 8383.0, 10897.0,\n",
       "        12572.0, 7456.0, 9222.0, 11374.0, 12791.0, nan, nan, 19638L,\n",
       "        33619L, 'FL', 7600.0, 0L, 1053L],\n",
       "       ['12/7/2009', 'ADESA', 2005L, 4L, 'DODGE', 'STRATUS V6', 'SXT',\n",
       "        '4D SEDAN SXT FFV', 'MAROON', 'AUTO', 2.0, 'Covers', 73807L,\n",
       "        'AMERICAN', 'MEDIUM', 'CHRYSLER', 3202.0, 4760.0, 6943.0, 8457.0,\n",
       "        4035.0, 5557.0, 7146.0, 8702.0, nan, nan, 19638L, 33619L, 'FL',\n",
       "        4900.0, 0L, 1389L],\n",
       "       ['12/7/2009', 'ADESA', 2004L, 5L, 'DODGE', 'NEON', 'SXT',\n",
       "        '4D SEDAN', 'SILVER', 'AUTO', 1.0, 'Alloy', 65617L, 'AMERICAN',\n",
       "        'COMPACT', 'CHRYSLER', 1893.0, 2675.0, 4658.0, 5690.0, 1844.0,\n",
       "        2646.0, 4375.0, 5518.0, nan, nan, 19638L, 33619L, 'FL', 4100.0, 0L,\n",
       "        630L],\n",
       "       ['12/7/2009', 'ADESA', 2005L, 4L, 'FORD', 'FOCUS', 'ZX3',\n",
       "        '2D COUPE ZX3', 'SILVER', 'MANUAL', 2.0, 'Covers', 69367L,\n",
       "        'AMERICAN', 'COMPACT', 'FORD', 3913.0, 5054.0, 7723.0, 8707.0,\n",
       "        3247.0, 4384.0, 6739.0, 7911.0, nan, nan, 19638L, 33619L, 'FL',\n",
       "        4000.0, 0L, 1020L]], dtype=object)"
      ]
     },
     "execution_count": 19,
     "metadata": {},
     "output_type": "execute_result"
    }
   ],
   "source": [
    "# the independent vals\n",
    "training_input = car_data_training[[\n",
    "        'PurchDate', \n",
    "        'Auction',\n",
    "        'VehYear', \n",
    "        'VehicleAge', \n",
    "        'Make', \n",
    "        'Model', \n",
    "        'Trim', \n",
    "        'SubModel',\n",
    "        'Color', \n",
    "        'Transmission', \n",
    "        'WheelTypeID', \n",
    "        'WheelType', \n",
    "        'VehOdo',\n",
    "        'Nationality', \n",
    "        'Size', \n",
    "        'TopThreeAmericanName',\n",
    "        'MMRAcquisitionAuctionAveragePrice',\n",
    "        'MMRAcquisitionAuctionCleanPrice', \n",
    "        'MMRAcquisitionRetailAveragePrice',\n",
    "        'MMRAcquisitonRetailCleanPrice', \n",
    "        'MMRCurrentAuctionAveragePrice',\n",
    "        'MMRCurrentAuctionCleanPrice', \n",
    "        'MMRCurrentRetailAveragePrice',\n",
    "        'MMRCurrentRetailCleanPrice', \n",
    "        'PRIMEUNIT', \n",
    "        'AUCGUART', \n",
    "        'BYRNO',\n",
    "        'VNZIP1', \n",
    "        'VNST', \n",
    "        'VehBCost', \n",
    "        'IsOnlineSale', \n",
    "        'WarrantyCost'\n",
    "    ]].values\n",
    "\n",
    "# the classification info\n",
    "training_classes = car_data_training['IsBadBuy'].values\n",
    "\n",
    "#ugly, but we have to do the same with the test data\n",
    "# the independent vals\n",
    "test_input = car_data_test[[\n",
    "        'PurchDate', \n",
    "        'Auction',\n",
    "        'VehYear', \n",
    "        'VehicleAge', \n",
    "        'Make', \n",
    "        'Model', \n",
    "        'Trim', \n",
    "        'SubModel',\n",
    "        'Color', \n",
    "        'Transmission', \n",
    "        'WheelTypeID', \n",
    "        'WheelType', \n",
    "        'VehOdo',\n",
    "        'Nationality', \n",
    "        'Size', \n",
    "        'TopThreeAmericanName',\n",
    "        'MMRAcquisitionAuctionAveragePrice',\n",
    "        'MMRAcquisitionAuctionCleanPrice', \n",
    "        'MMRAcquisitionRetailAveragePrice',\n",
    "        'MMRAcquisitonRetailCleanPrice', \n",
    "        'MMRCurrentAuctionAveragePrice',\n",
    "        'MMRCurrentAuctionCleanPrice', \n",
    "        'MMRCurrentRetailAveragePrice',\n",
    "        'MMRCurrentRetailCleanPrice', \n",
    "        'PRIMEUNIT', \n",
    "        'AUCGUART', \n",
    "        'BYRNO',\n",
    "        'VNZIP1', \n",
    "        'VNST', \n",
    "        'VehBCost', \n",
    "        'IsOnlineSale', \n",
    "        'WarrantyCost'\n",
    "    ]].values\n",
    "\n",
    "#there's no test classes - we have to predict them\n",
    "\n",
    "# let's take a look at a subset\n",
    "training_input[:5]"
   ]
  },
  {
   "cell_type": "markdown",
   "metadata": {},
   "source": [
    "## Decision Tree"
   ]
  },
  {
   "cell_type": "markdown",
   "metadata": {},
   "source": [
    "To use a decision tree, we have to import and set it up"
   ]
  },
  {
   "cell_type": "code",
   "execution_count": 22,
   "metadata": {
    "collapsed": false
   },
   "outputs": [
    {
     "ename": "ValueError",
     "evalue": "could not convert string to float: GA",
     "output_type": "error",
     "traceback": [
      "\u001b[1;31m---------------------------------------------------------------------------\u001b[0m",
      "\u001b[1;31mValueError\u001b[0m                                Traceback (most recent call last)",
      "\u001b[1;32m<ipython-input-22-ca05f8cb6e7d>\u001b[0m in \u001b[0;36m<module>\u001b[1;34m()\u001b[0m\n\u001b[0;32m      5\u001b[0m \u001b[1;33m\u001b[0m\u001b[0m\n\u001b[0;32m      6\u001b[0m \u001b[1;31m# Train the classifier with the training set\u001b[0m\u001b[1;33m\u001b[0m\u001b[1;33m\u001b[0m\u001b[0m\n\u001b[1;32m----> 7\u001b[1;33m \u001b[0mdt_classifier\u001b[0m\u001b[1;33m.\u001b[0m\u001b[0mfit\u001b[0m\u001b[1;33m(\u001b[0m\u001b[0mtraining_input\u001b[0m\u001b[1;33m,\u001b[0m \u001b[0mtraining_classes\u001b[0m\u001b[1;33m)\u001b[0m\u001b[1;33m\u001b[0m\u001b[0m\n\u001b[0m",
      "\u001b[1;32mE:\\Users\\Matzilla\\Anaconda2\\lib\\site-packages\\sklearn\\tree\\tree.py\u001b[0m in \u001b[0;36mfit\u001b[1;34m(self, X, y, sample_weight, check_input, X_idx_sorted)\u001b[0m\n\u001b[0;32m    152\u001b[0m         \u001b[0mrandom_state\u001b[0m \u001b[1;33m=\u001b[0m \u001b[0mcheck_random_state\u001b[0m\u001b[1;33m(\u001b[0m\u001b[0mself\u001b[0m\u001b[1;33m.\u001b[0m\u001b[0mrandom_state\u001b[0m\u001b[1;33m)\u001b[0m\u001b[1;33m\u001b[0m\u001b[0m\n\u001b[0;32m    153\u001b[0m         \u001b[1;32mif\u001b[0m \u001b[0mcheck_input\u001b[0m\u001b[1;33m:\u001b[0m\u001b[1;33m\u001b[0m\u001b[0m\n\u001b[1;32m--> 154\u001b[1;33m             \u001b[0mX\u001b[0m \u001b[1;33m=\u001b[0m \u001b[0mcheck_array\u001b[0m\u001b[1;33m(\u001b[0m\u001b[0mX\u001b[0m\u001b[1;33m,\u001b[0m \u001b[0mdtype\u001b[0m\u001b[1;33m=\u001b[0m\u001b[0mDTYPE\u001b[0m\u001b[1;33m,\u001b[0m \u001b[0maccept_sparse\u001b[0m\u001b[1;33m=\u001b[0m\u001b[1;34m\"csc\"\u001b[0m\u001b[1;33m)\u001b[0m\u001b[1;33m\u001b[0m\u001b[0m\n\u001b[0m\u001b[0;32m    155\u001b[0m             \u001b[1;32mif\u001b[0m \u001b[0missparse\u001b[0m\u001b[1;33m(\u001b[0m\u001b[0mX\u001b[0m\u001b[1;33m)\u001b[0m\u001b[1;33m:\u001b[0m\u001b[1;33m\u001b[0m\u001b[0m\n\u001b[0;32m    156\u001b[0m                 \u001b[0mX\u001b[0m\u001b[1;33m.\u001b[0m\u001b[0msort_indices\u001b[0m\u001b[1;33m(\u001b[0m\u001b[1;33m)\u001b[0m\u001b[1;33m\u001b[0m\u001b[0m\n",
      "\u001b[1;32mE:\\Users\\Matzilla\\Anaconda2\\lib\\site-packages\\sklearn\\utils\\validation.pyc\u001b[0m in \u001b[0;36mcheck_array\u001b[1;34m(array, accept_sparse, dtype, order, copy, force_all_finite, ensure_2d, allow_nd, ensure_min_samples, ensure_min_features, warn_on_dtype, estimator)\u001b[0m\n\u001b[0;32m    371\u001b[0m                                       force_all_finite)\n\u001b[0;32m    372\u001b[0m     \u001b[1;32melse\u001b[0m\u001b[1;33m:\u001b[0m\u001b[1;33m\u001b[0m\u001b[0m\n\u001b[1;32m--> 373\u001b[1;33m         \u001b[0marray\u001b[0m \u001b[1;33m=\u001b[0m \u001b[0mnp\u001b[0m\u001b[1;33m.\u001b[0m\u001b[0marray\u001b[0m\u001b[1;33m(\u001b[0m\u001b[0marray\u001b[0m\u001b[1;33m,\u001b[0m \u001b[0mdtype\u001b[0m\u001b[1;33m=\u001b[0m\u001b[0mdtype\u001b[0m\u001b[1;33m,\u001b[0m \u001b[0morder\u001b[0m\u001b[1;33m=\u001b[0m\u001b[0morder\u001b[0m\u001b[1;33m,\u001b[0m \u001b[0mcopy\u001b[0m\u001b[1;33m=\u001b[0m\u001b[0mcopy\u001b[0m\u001b[1;33m)\u001b[0m\u001b[1;33m\u001b[0m\u001b[0m\n\u001b[0m\u001b[0;32m    374\u001b[0m \u001b[1;33m\u001b[0m\u001b[0m\n\u001b[0;32m    375\u001b[0m         \u001b[1;32mif\u001b[0m \u001b[0mensure_2d\u001b[0m\u001b[1;33m:\u001b[0m\u001b[1;33m\u001b[0m\u001b[0m\n",
      "\u001b[1;31mValueError\u001b[0m: could not convert string to float: GA"
     ]
    }
   ],
   "source": [
    "from sklearn.tree import DecisionTreeClassifier\n",
    "\n",
    "# Create the classifier\n",
    "dt_classifier = DecisionTreeClassifier()\n",
    "\n",
    "# Train the classifier with the training set\n",
    "dt_classifier.fit(training_input, training_classes)"
   ]
  },
  {
   "cell_type": "code",
   "execution_count": null,
   "metadata": {
    "collapsed": true
   },
   "outputs": [],
   "source": []
  }
 ],
 "metadata": {
  "kernelspec": {
   "display_name": "Python 2",
   "language": "python",
   "name": "python2"
  },
  "language_info": {
   "codemirror_mode": {
    "name": "ipython",
    "version": 2
   },
   "file_extension": ".py",
   "mimetype": "text/x-python",
   "name": "python",
   "nbconvert_exporter": "python",
   "pygments_lexer": "ipython2",
   "version": "2.7.11"
  }
 },
 "nbformat": 4,
 "nbformat_minor": 0
}
