{
 "cells": [
  {
   "cell_type": "markdown",
   "metadata": {},
   "source": [
    "## Importing and Exploring the Data"
   ]
  },
  {
   "cell_type": "markdown",
   "metadata": {},
   "source": [
    "Let's look at the data first. Import and show the head data.\n",
    "As we are interested in the dataset as a whole, import and concatenate training and test set."
   ]
  },
  {
   "cell_type": "code",
   "execution_count": 176,
   "metadata": {
    "collapsed": false
   },
   "outputs": [
    {
     "data": {
      "text/plain": [
       "0    73016.0\n",
       "1    73018.0\n",
       "2    73020.0\n",
       "3    73022.0\n",
       "4    73024.0\n",
       "Name: RefId, dtype: float64"
      ]
     },
     "execution_count": 176,
     "metadata": {},
     "output_type": "execute_result"
    }
   ],
   "source": [
    "import pandas as pd\n",
    "\n",
    "car_data_training = pd.read_csv('training.csv', na_values=['NA'])\n",
    "car_data_test = pd.read_csv('test.csv', na_values=['NA'])\n",
    "car_data = car_data_training + car_data_test\n",
    "car_data[\"RefId\"].head()"
   ]
  },
  {
   "cell_type": "markdown",
   "metadata": {},
   "source": [
    "Now we can look at some statistics"
   ]
  },
  {
   "cell_type": "code",
   "execution_count": 177,
   "metadata": {
    "collapsed": false
   },
   "outputs": [
    {
     "data": {
      "text/html": [
       "<div>\n",
       "<table border=\"1\" class=\"dataframe\">\n",
       "  <thead>\n",
       "    <tr style=\"text-align: right;\">\n",
       "      <th></th>\n",
       "      <th>BYRNO</th>\n",
       "      <th>IsBadBuy</th>\n",
       "      <th>IsOnlineSale</th>\n",
       "      <th>MMRAcquisitionAuctionAveragePrice</th>\n",
       "      <th>MMRAcquisitionAuctionCleanPrice</th>\n",
       "      <th>MMRAcquisitionRetailAveragePrice</th>\n",
       "      <th>MMRAcquisitonRetailCleanPrice</th>\n",
       "      <th>MMRCurrentAuctionAveragePrice</th>\n",
       "      <th>MMRCurrentAuctionCleanPrice</th>\n",
       "      <th>MMRCurrentRetailAveragePrice</th>\n",
       "      <th>MMRCurrentRetailCleanPrice</th>\n",
       "      <th>RefId</th>\n",
       "      <th>VNZIP1</th>\n",
       "      <th>VehBCost</th>\n",
       "      <th>VehOdo</th>\n",
       "      <th>VehYear</th>\n",
       "      <th>VehicleAge</th>\n",
       "      <th>WarrantyCost</th>\n",
       "      <th>WheelTypeID</th>\n",
       "    </tr>\n",
       "  </thead>\n",
       "  <tbody>\n",
       "    <tr>\n",
       "      <th>count</th>\n",
       "      <td>48707.000000</td>\n",
       "      <td>0.0</td>\n",
       "      <td>48707.000000</td>\n",
       "      <td>48684.000000</td>\n",
       "      <td>48684.000000</td>\n",
       "      <td>48684.000000</td>\n",
       "      <td>48684.000000</td>\n",
       "      <td>48360.000000</td>\n",
       "      <td>48360.000000</td>\n",
       "      <td>48360.000000</td>\n",
       "      <td>48360.000000</td>\n",
       "      <td>48707.000000</td>\n",
       "      <td>48707.000000</td>\n",
       "      <td>48707.000000</td>\n",
       "      <td>48707.00000</td>\n",
       "      <td>48707.000000</td>\n",
       "      <td>48707.000000</td>\n",
       "      <td>48707.000000</td>\n",
       "      <td>44843.000000</td>\n",
       "    </tr>\n",
       "    <tr>\n",
       "      <th>mean</th>\n",
       "      <td>50609.747552</td>\n",
       "      <td>NaN</td>\n",
       "      <td>0.049089</td>\n",
       "      <td>12263.149741</td>\n",
       "      <td>14777.899104</td>\n",
       "      <td>17085.854860</td>\n",
       "      <td>19823.464218</td>\n",
       "      <td>12241.681266</td>\n",
       "      <td>14781.654342</td>\n",
       "      <td>17603.141563</td>\n",
       "      <td>20368.253846</td>\n",
       "      <td>121747.142012</td>\n",
       "      <td>109061.742029</td>\n",
       "      <td>13503.951521</td>\n",
       "      <td>143546.82639</td>\n",
       "      <td>4010.639600</td>\n",
       "      <td>8.441579</td>\n",
       "      <td>2571.075143</td>\n",
       "      <td>2.950494</td>\n",
       "    </tr>\n",
       "    <tr>\n",
       "      <th>std</th>\n",
       "      <td>33558.344166</td>\n",
       "      <td>NaN</td>\n",
       "      <td>0.219451</td>\n",
       "      <td>3480.586645</td>\n",
       "      <td>3853.605560</td>\n",
       "      <td>4425.780899</td>\n",
       "      <td>4753.651535</td>\n",
       "      <td>3438.139261</td>\n",
       "      <td>3802.828158</td>\n",
       "      <td>4310.027415</td>\n",
       "      <td>4631.218529</td>\n",
       "      <td>28135.004954</td>\n",
       "      <td>37945.923373</td>\n",
       "      <td>2489.386639</td>\n",
       "      <td>20391.82592</td>\n",
       "      <td>2.429685</td>\n",
       "      <td>2.405306</td>\n",
       "      <td>856.253118</td>\n",
       "      <td>0.731187</td>\n",
       "    </tr>\n",
       "    <tr>\n",
       "      <th>min</th>\n",
       "      <td>1670.000000</td>\n",
       "      <td>NaN</td>\n",
       "      <td>0.000000</td>\n",
       "      <td>0.000000</td>\n",
       "      <td>0.000000</td>\n",
       "      <td>0.000000</td>\n",
       "      <td>0.000000</td>\n",
       "      <td>0.000000</td>\n",
       "      <td>0.000000</td>\n",
       "      <td>0.000000</td>\n",
       "      <td>0.000000</td>\n",
       "      <td>73016.000000</td>\n",
       "      <td>30908.000000</td>\n",
       "      <td>5335.000000</td>\n",
       "      <td>51036.00000</td>\n",
       "      <td>4002.000000</td>\n",
       "      <td>2.000000</td>\n",
       "      <td>944.000000</td>\n",
       "      <td>1.000000</td>\n",
       "    </tr>\n",
       "    <tr>\n",
       "      <th>25%</th>\n",
       "      <td>29225.000000</td>\n",
       "      <td>NaN</td>\n",
       "      <td>0.000000</td>\n",
       "      <td>9883.000000</td>\n",
       "      <td>12182.000000</td>\n",
       "      <td>14099.000000</td>\n",
       "      <td>16665.750000</td>\n",
       "      <td>9851.000000</td>\n",
       "      <td>12157.000000</td>\n",
       "      <td>14670.000000</td>\n",
       "      <td>17251.000000</td>\n",
       "      <td>97381.000000</td>\n",
       "      <td>70008.000000</td>\n",
       "      <td>11795.000000</td>\n",
       "      <td>130225.00000</td>\n",
       "      <td>4009.000000</td>\n",
       "      <td>7.000000</td>\n",
       "      <td>1980.000000</td>\n",
       "      <td>2.000000</td>\n",
       "    </tr>\n",
       "    <tr>\n",
       "      <th>50%</th>\n",
       "      <td>39713.000000</td>\n",
       "      <td>NaN</td>\n",
       "      <td>0.000000</td>\n",
       "      <td>12150.000000</td>\n",
       "      <td>14631.000000</td>\n",
       "      <td>17041.000000</td>\n",
       "      <td>19788.000000</td>\n",
       "      <td>12097.000000</td>\n",
       "      <td>14605.000000</td>\n",
       "      <td>17552.000000</td>\n",
       "      <td>20308.000000</td>\n",
       "      <td>121749.000000</td>\n",
       "      <td>107944.000000</td>\n",
       "      <td>13435.000000</td>\n",
       "      <td>144903.00000</td>\n",
       "      <td>4011.000000</td>\n",
       "      <td>8.000000</td>\n",
       "      <td>2463.000000</td>\n",
       "      <td>3.000000</td>\n",
       "    </tr>\n",
       "    <tr>\n",
       "      <th>75%</th>\n",
       "      <td>46028.000000</td>\n",
       "      <td>NaN</td>\n",
       "      <td>0.000000</td>\n",
       "      <td>14519.000000</td>\n",
       "      <td>17221.250000</td>\n",
       "      <td>20034.000000</td>\n",
       "      <td>22945.000000</td>\n",
       "      <td>14463.250000</td>\n",
       "      <td>17194.000000</td>\n",
       "      <td>20477.000000</td>\n",
       "      <td>23425.000000</td>\n",
       "      <td>146113.000000</td>\n",
       "      <td>135391.000000</td>\n",
       "      <td>15155.000000</td>\n",
       "      <td>158224.00000</td>\n",
       "      <td>4012.000000</td>\n",
       "      <td>10.000000</td>\n",
       "      <td>3012.000000</td>\n",
       "      <td>3.000000</td>\n",
       "    </tr>\n",
       "    <tr>\n",
       "      <th>max</th>\n",
       "      <td>199522.000000</td>\n",
       "      <td>NaN</td>\n",
       "      <td>2.000000</td>\n",
       "      <td>40310.000000</td>\n",
       "      <td>44899.000000</td>\n",
       "      <td>49368.000000</td>\n",
       "      <td>54748.000000</td>\n",
       "      <td>40192.000000</td>\n",
       "      <td>45436.000000</td>\n",
       "      <td>50793.000000</td>\n",
       "      <td>55320.000000</td>\n",
       "      <td>170480.000000</td>\n",
       "      <td>188823.000000</td>\n",
       "      <td>66900.000000</td>\n",
       "      <td>206040.00000</td>\n",
       "      <td>4017.000000</td>\n",
       "      <td>18.000000</td>\n",
       "      <td>11005.000000</td>\n",
       "      <td>6.000000</td>\n",
       "    </tr>\n",
       "  </tbody>\n",
       "</table>\n",
       "</div>"
      ],
      "text/plain": [
       "               BYRNO  IsBadBuy  IsOnlineSale  \\\n",
       "count   48707.000000       0.0  48707.000000   \n",
       "mean    50609.747552       NaN      0.049089   \n",
       "std     33558.344166       NaN      0.219451   \n",
       "min      1670.000000       NaN      0.000000   \n",
       "25%     29225.000000       NaN      0.000000   \n",
       "50%     39713.000000       NaN      0.000000   \n",
       "75%     46028.000000       NaN      0.000000   \n",
       "max    199522.000000       NaN      2.000000   \n",
       "\n",
       "       MMRAcquisitionAuctionAveragePrice  MMRAcquisitionAuctionCleanPrice  \\\n",
       "count                       48684.000000                     48684.000000   \n",
       "mean                        12263.149741                     14777.899104   \n",
       "std                          3480.586645                      3853.605560   \n",
       "min                             0.000000                         0.000000   \n",
       "25%                          9883.000000                     12182.000000   \n",
       "50%                         12150.000000                     14631.000000   \n",
       "75%                         14519.000000                     17221.250000   \n",
       "max                         40310.000000                     44899.000000   \n",
       "\n",
       "       MMRAcquisitionRetailAveragePrice  MMRAcquisitonRetailCleanPrice  \\\n",
       "count                      48684.000000                   48684.000000   \n",
       "mean                       17085.854860                   19823.464218   \n",
       "std                         4425.780899                    4753.651535   \n",
       "min                            0.000000                       0.000000   \n",
       "25%                        14099.000000                   16665.750000   \n",
       "50%                        17041.000000                   19788.000000   \n",
       "75%                        20034.000000                   22945.000000   \n",
       "max                        49368.000000                   54748.000000   \n",
       "\n",
       "       MMRCurrentAuctionAveragePrice  MMRCurrentAuctionCleanPrice  \\\n",
       "count                   48360.000000                 48360.000000   \n",
       "mean                    12241.681266                 14781.654342   \n",
       "std                      3438.139261                  3802.828158   \n",
       "min                         0.000000                     0.000000   \n",
       "25%                      9851.000000                 12157.000000   \n",
       "50%                     12097.000000                 14605.000000   \n",
       "75%                     14463.250000                 17194.000000   \n",
       "max                     40192.000000                 45436.000000   \n",
       "\n",
       "       MMRCurrentRetailAveragePrice  MMRCurrentRetailCleanPrice  \\\n",
       "count                  48360.000000                48360.000000   \n",
       "mean                   17603.141563                20368.253846   \n",
       "std                     4310.027415                 4631.218529   \n",
       "min                        0.000000                    0.000000   \n",
       "25%                    14670.000000                17251.000000   \n",
       "50%                    17552.000000                20308.000000   \n",
       "75%                    20477.000000                23425.000000   \n",
       "max                    50793.000000                55320.000000   \n",
       "\n",
       "               RefId         VNZIP1      VehBCost        VehOdo       VehYear  \\\n",
       "count   48707.000000   48707.000000  48707.000000   48707.00000  48707.000000   \n",
       "mean   121747.142012  109061.742029  13503.951521  143546.82639   4010.639600   \n",
       "std     28135.004954   37945.923373   2489.386639   20391.82592      2.429685   \n",
       "min     73016.000000   30908.000000   5335.000000   51036.00000   4002.000000   \n",
       "25%     97381.000000   70008.000000  11795.000000  130225.00000   4009.000000   \n",
       "50%    121749.000000  107944.000000  13435.000000  144903.00000   4011.000000   \n",
       "75%    146113.000000  135391.000000  15155.000000  158224.00000   4012.000000   \n",
       "max    170480.000000  188823.000000  66900.000000  206040.00000   4017.000000   \n",
       "\n",
       "         VehicleAge  WarrantyCost   WheelTypeID  \n",
       "count  48707.000000  48707.000000  44843.000000  \n",
       "mean       8.441579   2571.075143      2.950494  \n",
       "std        2.405306    856.253118      0.731187  \n",
       "min        2.000000    944.000000      1.000000  \n",
       "25%        7.000000   1980.000000      2.000000  \n",
       "50%        8.000000   2463.000000      3.000000  \n",
       "75%       10.000000   3012.000000      3.000000  \n",
       "max       18.000000  11005.000000      6.000000  "
      ]
     },
     "execution_count": 177,
     "metadata": {},
     "output_type": "execute_result"
    }
   ],
   "source": [
    "car_data.describe()"
   ]
  },
  {
   "cell_type": "markdown",
   "metadata": {},
   "source": [
    "So we see, we are missing some values. __WheelTypeID__ and __MMRAcquisition*__"
   ]
  },
  {
   "cell_type": "markdown",
   "metadata": {},
   "source": [
    "But before handling missing values, lets plot the data first. For that, we have to set up the plotting lib first"
   ]
  },
  {
   "cell_type": "code",
   "execution_count": 6,
   "metadata": {
    "collapsed": true
   },
   "outputs": [],
   "source": [
    "%matplotlib inline\n",
    "\n",
    "import matplotlib.pyplot as plt\n",
    "import seaborn as sb"
   ]
  },
  {
   "cell_type": "markdown",
   "metadata": {},
   "source": [
    "Let's create a __scatterplot matrix__ to have a first glance!"
   ]
  },
  {
   "cell_type": "code",
   "execution_count": 4,
   "metadata": {
    "collapsed": false
   },
   "outputs": [],
   "source": [
    "# as it's a 32x32 matrix, we will skip this for now\n",
    "# sb.pairplot(car_data.dropna(), hue='IsBadBuy')"
   ]
  },
  {
   "cell_type": "markdown",
   "metadata": {},
   "source": [
    "__IsBadBuy__ is a bool, so there should only be 2 values, 1 and 0, right?"
   ]
  },
  {
   "cell_type": "code",
   "execution_count": 178,
   "metadata": {
    "collapsed": false
   },
   "outputs": [
    {
     "data": {
      "text/plain": [
       "Index([u'AUCGUART', u'Auction', u'BYRNO', u'Color', u'IsBadBuy',\n",
       "       u'IsOnlineSale', u'MMRAcquisitionAuctionAveragePrice',\n",
       "       u'MMRAcquisitionAuctionCleanPrice', u'MMRAcquisitionRetailAveragePrice',\n",
       "       u'MMRAcquisitonRetailCleanPrice', u'MMRCurrentAuctionAveragePrice',\n",
       "       u'MMRCurrentAuctionCleanPrice', u'MMRCurrentRetailAveragePrice',\n",
       "       u'MMRCurrentRetailCleanPrice', u'Make', u'Model', u'Nationality',\n",
       "       u'PRIMEUNIT', u'PurchDate', u'RefId', u'Size', u'SubModel',\n",
       "       u'TopThreeAmericanName', u'Transmission', u'Trim', u'VNST', u'VNZIP1',\n",
       "       u'VehBCost', u'VehOdo', u'VehYear', u'VehicleAge', u'WarrantyCost',\n",
       "       u'WheelType', u'WheelTypeID'],\n",
       "      dtype='object')"
      ]
     },
     "execution_count": 178,
     "metadata": {},
     "output_type": "execute_result"
    }
   ],
   "source": [
    "car_data.columns"
   ]
  },
  {
   "cell_type": "markdown",
   "metadata": {},
   "source": [
    "## Data cleaning"
   ]
  },
  {
   "cell_type": "markdown",
   "metadata": {},
   "source": [
    "Looks good so far, but there are missing values, so we have to fix that. First, determine these lines:"
   ]
  },
  {
   "cell_type": "code",
   "execution_count": 180,
   "metadata": {
    "collapsed": false
   },
   "outputs": [
    {
     "data": {
      "text/plain": [
       "4199"
      ]
     },
     "execution_count": 180,
     "metadata": {},
     "output_type": "execute_result"
    }
   ],
   "source": [
    "car_data.loc[\n",
    "    car_data['WheelTypeID'].isnull() |\n",
    "    car_data['MMRAcquisitionAuctionAveragePrice'].isnull() |\n",
    "    car_data['MMRAcquisitionAuctionCleanPrice'].isnull() |\n",
    "    car_data['MMRAcquisitionRetailAveragePrice'].isnull() |\n",
    "    car_data['MMRAcquisitonRetailCleanPrice'].isnull() |\n",
    "    car_data['MMRCurrentAuctionAveragePrice'].isnull() |\n",
    "    car_data['MMRCurrentAuctionCleanPrice'].isnull() |\n",
    "    car_data['MMRCurrentRetailAveragePrice'].isnull() |\n",
    "    car_data['MMRCurrentRetailCleanPrice'].isnull(),\n",
    "    \"RefId\"\n",
    "].count()"
   ]
  },
  {
   "cell_type": "markdown",
   "metadata": {},
   "source": [
    "Let's start with the MMR Prices. As there are no infos, we simply build an average value for these values.  \n",
    "Except for the wheel info. As there is no easy way of extracting this data, I zeroed them out to be able to use the remaining data out of the entry in question anyway.  \n",
    "Idea for WheelType: Build the mean over every manufacturer, which wheel type they use and make an educated guess for the entry in question.  \n",
    "But let's start with the auction values. Simply average them without specialization and set the average on missing vals.\n",
    "__The Average value is calculated by using the full data available!__"
   ]
  },
  {
   "cell_type": "code",
   "execution_count": 181,
   "metadata": {
    "collapsed": false
   },
   "outputs": [
    {
     "name": "stdout",
     "output_type": "stream",
     "text": [
      "(12263.14974118807, 17085.854859912906, 19823.464218223646, 12241.681265508685, 14781.654342431762, 17603.141563275436, 20368.253846153846)\n"
     ]
    }
   ],
   "source": [
    "MMR_AAAP = car_data['MMRAcquisitionAuctionAveragePrice'].mean()\n",
    "MMR_AACP = car_data['MMRAcquisitionAuctionCleanPrice'].mean()\n",
    "MMR_ARAP = car_data['MMRAcquisitionRetailAveragePrice'].mean()\n",
    "MMR_ARCP = car_data['MMRAcquisitonRetailCleanPrice'].mean()\n",
    "MMR_CAAP = car_data['MMRCurrentAuctionAveragePrice'].mean()\n",
    "MMR_CACP = car_data['MMRCurrentAuctionCleanPrice'].mean()\n",
    "MMR_CRAP = car_data['MMRCurrentRetailAveragePrice'].mean()\n",
    "MMR_CRCP = car_data['MMRCurrentRetailCleanPrice'].mean()\n",
    "#print(MMR_AAAP, MMR_ARAP, MMR_ARCP, MMR_CAAP, MMR_CACP, MMR_CRAP, MMR_CRCP)"
   ]
  },
  {
   "cell_type": "code",
   "execution_count": 182,
   "metadata": {
    "collapsed": false
   },
   "outputs": [],
   "source": [
    "car_data_training.loc[car_data['MMRAcquisitionAuctionAveragePrice'].isnull(), \"MMRAcquisitionAuctionAveragePrice\"] = MMR_AAAP\n",
    "car_data_training.loc[car_data['MMRAcquisitionAuctionCleanPrice'].isnull(), \"MMRAcquisitionAuctionCleanPrice\"] = MMR_AACP\n",
    "car_data_training.loc[car_data['MMRAcquisitionRetailAveragePrice'].isnull(), \"MMRAcquisitionRetailAveragePrice\"] = MMR_ARAP\n",
    "car_data_training.loc[car_data['MMRAcquisitonRetailCleanPrice'].isnull(), \"MMRAcquisitonRetailCleanPrice\"] = MMR_ARCP\n",
    "car_data_training.loc[car_data['MMRCurrentAuctionAveragePrice'].isnull(), \"MMRCurrentAuctionAveragePrice\"] = MMR_CAAP\n",
    "car_data_training.loc[car_data['MMRCurrentAuctionCleanPrice'].isnull(), \"MMRCurrentAuctionCleanPrice\"] = MMR_CACP\n",
    "car_data_training.loc[car_data['MMRCurrentRetailAveragePrice'].isnull(), \"MMRCurrentRetailAveragePrice\"] = MMR_CRAP\n",
    "car_data_training.loc[car_data['MMRCurrentRetailCleanPrice'].isnull(), \"MMRCurrentRetailCleanPrice\"] = MMR_CRCP\n",
    "\n",
    "car_data_test.loc[car_data['MMRAcquisitionAuctionAveragePrice'].isnull(), \"MMRAcquisitionAuctionAveragePrice\"] = MMR_AAAP\n",
    "car_data_test.loc[car_data['MMRAcquisitionAuctionCleanPrice'].isnull(), \"MMRAcquisitionAuctionCleanPrice\"] = MMR_AACP\n",
    "car_data_test.loc[car_data['MMRAcquisitionRetailAveragePrice'].isnull(), \"MMRAcquisitionRetailAveragePrice\"] = MMR_ARAP\n",
    "car_data_test.loc[car_data['MMRAcquisitonRetailCleanPrice'].isnull(), \"MMRAcquisitonRetailCleanPrice\"] = MMR_ARCP\n",
    "car_data_test.loc[car_data['MMRCurrentAuctionAveragePrice'].isnull(), \"MMRCurrentAuctionAveragePrice\"] = MMR_CAAP\n",
    "car_data_test.loc[car_data['MMRCurrentAuctionCleanPrice'].isnull(), \"MMRCurrentAuctionCleanPrice\"] = MMR_CACP\n",
    "car_data_test.loc[car_data['MMRCurrentRetailAveragePrice'].isnull(), \"MMRCurrentRetailAveragePrice\"] = MMR_CRAP\n",
    "car_data_test.loc[car_data['MMRCurrentRetailCleanPrice'].isnull(), \"MMRCurrentRetailCleanPrice\"] = MMR_CRCP\n",
    "\n",
    "#And just for fun and statistics, set the vals in the concatenated list, too\n",
    "car_data.loc[car_data['MMRAcquisitionAuctionAveragePrice'].isnull(), \"MMRAcquisitionAuctionAveragePrice\"] = MMR_AAAP\n",
    "car_data.loc[car_data['MMRAcquisitionAuctionCleanPrice'].isnull(), \"MMRAcquisitionAuctionCleanPrice\"] = MMR_AACP\n",
    "car_data.loc[car_data['MMRAcquisitionRetailAveragePrice'].isnull(), \"MMRAcquisitionRetailAveragePrice\"] = MMR_ARAP\n",
    "car_data.loc[car_data['MMRAcquisitonRetailCleanPrice'].isnull(), \"MMRAcquisitonRetailCleanPrice\"] = MMR_ARCP\n",
    "car_data.loc[car_data['MMRCurrentAuctionAveragePrice'].isnull(), \"MMRCurrentAuctionAveragePrice\"] = MMR_CAAP\n",
    "car_data.loc[car_data['MMRCurrentAuctionCleanPrice'].isnull(), \"MMRCurrentAuctionCleanPrice\"] = MMR_CACP\n",
    "car_data.loc[car_data['MMRCurrentRetailAveragePrice'].isnull(), \"MMRCurrentRetailAveragePrice\"] = MMR_CRAP\n",
    "car_data.loc[car_data['MMRCurrentRetailCleanPrice'].isnull(), \"MMRCurrentRetailCleanPrice\"] = MMR_CRCP"
   ]
  },
  {
   "cell_type": "markdown",
   "metadata": {},
   "source": [
    "Let's take care of the wheeltype problem. First, identify possible values"
   ]
  },
  {
   "cell_type": "code",
   "execution_count": 183,
   "metadata": {
    "collapsed": false
   },
   "outputs": [
    {
     "data": {
      "text/plain": [
       "array([  2.,   3.,  nan,   4.,   5.,   6.,   1.])"
      ]
     },
     "execution_count": 183,
     "metadata": {},
     "output_type": "execute_result"
    }
   ],
   "source": [
    "car_data[\"WheelTypeID\"].unique()"
   ]
  },
  {
   "cell_type": "code",
   "execution_count": 184,
   "metadata": {
    "collapsed": false
   },
   "outputs": [
    {
     "data": {
      "text/plain": [
       "array(['AlloyAlloy', 'CoversAlloy', nan, 'CoversCovers', 'AlloyCovers',\n",
       "       'SpecialAlloy', 'CoversSpecial', 'SpecialCovers', 'AlloySpecial',\n",
       "       'SpecialSpecial'], dtype=object)"
      ]
     },
     "execution_count": 184,
     "metadata": {},
     "output_type": "execute_result"
    }
   ],
   "source": [
    "car_data[\"WheelType\"].unique()"
   ]
  },
  {
   "cell_type": "markdown",
   "metadata": {},
   "source": [
    "As one can see, there are already cases, where the wheeltype was unknown - there, the ID is set to 0. So let's do that for the rest too. To be a bit more descriptive, I added a new category named _Unknown_"
   ]
  },
  {
   "cell_type": "code",
   "execution_count": 185,
   "metadata": {
    "collapsed": false,
    "scrolled": true
   },
   "outputs": [
    {
     "data": {
      "text/html": [
       "<div>\n",
       "<table border=\"1\" class=\"dataframe\">\n",
       "  <thead>\n",
       "    <tr style=\"text-align: right;\">\n",
       "      <th></th>\n",
       "      <th>RefId</th>\n",
       "      <th>WheelTypeID</th>\n",
       "      <th>WheelType</th>\n",
       "    </tr>\n",
       "  </thead>\n",
       "  <tbody>\n",
       "  </tbody>\n",
       "</table>\n",
       "</div>"
      ],
      "text/plain": [
       "Empty DataFrame\n",
       "Columns: [RefId, WheelTypeID, WheelType]\n",
       "Index: []"
      ]
     },
     "execution_count": 185,
     "metadata": {},
     "output_type": "execute_result"
    }
   ],
   "source": [
    "car_data.loc[car_data['WheelTypeID']==0.0, [\"RefId\",\"WheelTypeID\", \"WheelType\"]].head()"
   ]
  },
  {
   "cell_type": "code",
   "execution_count": 186,
   "metadata": {
    "collapsed": false
   },
   "outputs": [
    {
     "data": {
      "text/html": [
       "<div>\n",
       "<table border=\"1\" class=\"dataframe\">\n",
       "  <thead>\n",
       "    <tr style=\"text-align: right;\">\n",
       "      <th></th>\n",
       "      <th>WheelType</th>\n",
       "      <th>WheelTypeID</th>\n",
       "    </tr>\n",
       "  </thead>\n",
       "  <tbody>\n",
       "    <tr>\n",
       "      <th>0</th>\n",
       "      <td>AlloyAlloy</td>\n",
       "      <td>2.0</td>\n",
       "    </tr>\n",
       "    <tr>\n",
       "      <th>1</th>\n",
       "      <td>AlloyAlloy</td>\n",
       "      <td>2.0</td>\n",
       "    </tr>\n",
       "    <tr>\n",
       "      <th>2</th>\n",
       "      <td>CoversAlloy</td>\n",
       "      <td>3.0</td>\n",
       "    </tr>\n",
       "    <tr>\n",
       "      <th>3</th>\n",
       "      <td>AlloyAlloy</td>\n",
       "      <td>2.0</td>\n",
       "    </tr>\n",
       "    <tr>\n",
       "      <th>4</th>\n",
       "      <td>Unknown</td>\n",
       "      <td>0.0</td>\n",
       "    </tr>\n",
       "  </tbody>\n",
       "</table>\n",
       "</div>"
      ],
      "text/plain": [
       "     WheelType  WheelTypeID\n",
       "0   AlloyAlloy          2.0\n",
       "1   AlloyAlloy          2.0\n",
       "2  CoversAlloy          3.0\n",
       "3   AlloyAlloy          2.0\n",
       "4      Unknown          0.0"
      ]
     },
     "execution_count": 186,
     "metadata": {},
     "output_type": "execute_result"
    }
   ],
   "source": [
    "car_data.loc[car_data['WheelTypeID'].isnull(),  \"WheelTypeID\"]  = 0.0\n",
    "car_data.loc[car_data['WheelType'].isnull(),  \"WheelType\"]  = \"Unknown\"\n",
    "\n",
    "car_data.loc[:,[\"WheelType\", \"WheelTypeID\"]].head()"
   ]
  },
  {
   "cell_type": "markdown",
   "metadata": {},
   "source": [
    "This should do the trick. Let's check again: "
   ]
  },
  {
   "cell_type": "code",
   "execution_count": 187,
   "metadata": {
    "collapsed": false
   },
   "outputs": [
    {
     "data": {
      "text/html": [
       "<div>\n",
       "<table border=\"1\" class=\"dataframe\">\n",
       "  <thead>\n",
       "    <tr style=\"text-align: right;\">\n",
       "      <th></th>\n",
       "      <th>RefId</th>\n",
       "      <th>WheelTypeID</th>\n",
       "      <th>WheelType</th>\n",
       "    </tr>\n",
       "  </thead>\n",
       "  <tbody>\n",
       "    <tr>\n",
       "      <th>4</th>\n",
       "      <td>73024.0</td>\n",
       "      <td>0.0</td>\n",
       "      <td>Unknown</td>\n",
       "    </tr>\n",
       "    <tr>\n",
       "      <th>9</th>\n",
       "      <td>73034.0</td>\n",
       "      <td>0.0</td>\n",
       "      <td>Unknown</td>\n",
       "    </tr>\n",
       "    <tr>\n",
       "      <th>11</th>\n",
       "      <td>73038.0</td>\n",
       "      <td>0.0</td>\n",
       "      <td>Unknown</td>\n",
       "    </tr>\n",
       "    <tr>\n",
       "      <th>12</th>\n",
       "      <td>73040.0</td>\n",
       "      <td>0.0</td>\n",
       "      <td>Unknown</td>\n",
       "    </tr>\n",
       "    <tr>\n",
       "      <th>26</th>\n",
       "      <td>73068.0</td>\n",
       "      <td>0.0</td>\n",
       "      <td>Unknown</td>\n",
       "    </tr>\n",
       "  </tbody>\n",
       "</table>\n",
       "</div>"
      ],
      "text/plain": [
       "      RefId  WheelTypeID WheelType\n",
       "4   73024.0          0.0   Unknown\n",
       "9   73034.0          0.0   Unknown\n",
       "11  73038.0          0.0   Unknown\n",
       "12  73040.0          0.0   Unknown\n",
       "26  73068.0          0.0   Unknown"
      ]
     },
     "execution_count": 187,
     "metadata": {},
     "output_type": "execute_result"
    }
   ],
   "source": [
    "car_data.loc[car_data['WheelTypeID']==0.0, [\"RefId\",\"WheelTypeID\", \"WheelType\"]].head()"
   ]
  },
  {
   "cell_type": "markdown",
   "metadata": {},
   "source": [
    "Looks good. A final test, if we successfully managed to clean the dataset:"
   ]
  },
  {
   "cell_type": "code",
   "execution_count": 188,
   "metadata": {
    "collapsed": false
   },
   "outputs": [
    {
     "data": {
      "text/plain": [
       "0"
      ]
     },
     "execution_count": 188,
     "metadata": {},
     "output_type": "execute_result"
    }
   ],
   "source": [
    "car_data.loc[\n",
    "    car_data['WheelTypeID'].isnull() |\n",
    "    car_data['MMRAcquisitionAuctionAveragePrice'].isnull() |\n",
    "    car_data['MMRAcquisitionAuctionCleanPrice'].isnull() |\n",
    "    car_data['MMRAcquisitionRetailAveragePrice'].isnull() |\n",
    "    car_data['MMRAcquisitonRetailCleanPrice'].isnull() |\n",
    "    car_data['MMRCurrentAuctionAveragePrice'].isnull() |\n",
    "    car_data['MMRCurrentAuctionCleanPrice'].isnull() |\n",
    "    car_data['MMRCurrentRetailAveragePrice'].isnull() |\n",
    "    car_data['MMRCurrentRetailCleanPrice'].isnull(),\n",
    "    \"RefId\"\n",
    "].count()"
   ]
  },
  {
   "cell_type": "markdown",
   "metadata": {},
   "source": [
    "## Saving the data as cleaned csv"
   ]
  },
  {
   "cell_type": "code",
   "execution_count": 189,
   "metadata": {
    "collapsed": true
   },
   "outputs": [],
   "source": [
    "car_data_training.to_csv(\"training_clean.csv\")\n",
    "car_data_test.to_csv(\"test_clean.csv\")"
   ]
  }
 ],
 "metadata": {
  "kernelspec": {
   "display_name": "Python 2",
   "language": "python",
   "name": "python2"
  },
  "language_info": {
   "codemirror_mode": {
    "name": "ipython",
    "version": 2
   },
   "file_extension": ".py",
   "mimetype": "text/x-python",
   "name": "python",
   "nbconvert_exporter": "python",
   "pygments_lexer": "ipython2",
   "version": "2.7.11"
  }
 },
 "nbformat": 4,
 "nbformat_minor": 0
}
